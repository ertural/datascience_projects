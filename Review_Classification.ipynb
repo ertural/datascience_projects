{
 "cells": [
  {
   "cell_type": "code",
   "execution_count": 1,
   "metadata": {},
   "outputs": [],
   "source": [
    "import numpy as np\n",
    "import pandas as pd\n",
    "import seaborn as sns\n",
    "import matplotlib.pyplot as plt"
   ]
  },
  {
   "cell_type": "markdown",
   "metadata": {},
   "source": [
    "Description of the data:\n",
    "\n",
    "* Each observation (row) in this dataset is a review of a particular business by a particular user.\n",
    "* The stars column is the number of stars (1 through 5) assigned by the reviewer to the business. In other words, it is the rating of the business by the person who wrote the review.\n",
    "* The text column is the text of the review.\n",
    "* The cool/useful/funny fields represent the comments on the review left by other users\n"
   ]
  },
  {
   "cell_type": "markdown",
   "metadata": {},
   "source": [
    "# Load Data"
   ]
  },
  {
   "cell_type": "code",
   "execution_count": 7,
   "metadata": {},
   "outputs": [
    {
     "data": {
      "text/plain": [
       "(5261668, 9)"
      ]
     },
     "execution_count": 7,
     "metadata": {},
     "output_type": "execute_result"
    }
   ],
   "source": [
    "business = pd.read_csv('yelp_business.csv')\n",
    "review = pd.read_csv('yelp_review.csv')\n",
    "\n",
    "business.shape\n",
    "review.shape"
   ]
  },
  {
   "cell_type": "markdown",
   "metadata": {},
   "source": [
    "I notice that there are 5261668 review texts that are present in the dataset. In terms of comuputational efficiency creating random sampled version of the dataset makes sense. "
   ]
  },
  {
   "cell_type": "code",
   "execution_count": 8,
   "metadata": {},
   "outputs": [
    {
     "data": {
      "text/html": [
       "<div>\n",
       "<style scoped>\n",
       "    .dataframe tbody tr th:only-of-type {\n",
       "        vertical-align: middle;\n",
       "    }\n",
       "\n",
       "    .dataframe tbody tr th {\n",
       "        vertical-align: top;\n",
       "    }\n",
       "\n",
       "    .dataframe thead th {\n",
       "        text-align: right;\n",
       "    }\n",
       "</style>\n",
       "<table border=\"1\" class=\"dataframe\">\n",
       "  <thead>\n",
       "    <tr style=\"text-align: right;\">\n",
       "      <th></th>\n",
       "      <th>review_id</th>\n",
       "      <th>user_id</th>\n",
       "      <th>business_id</th>\n",
       "      <th>stars</th>\n",
       "      <th>date</th>\n",
       "      <th>text</th>\n",
       "      <th>useful</th>\n",
       "      <th>funny</th>\n",
       "      <th>cool</th>\n",
       "    </tr>\n",
       "  </thead>\n",
       "  <tbody>\n",
       "    <tr>\n",
       "      <th>1514311</th>\n",
       "      <td>w2JuB9QqfV5O3S3Q7vfg_Q</td>\n",
       "      <td>sQUQavVTsC7HqJFdW97XNg</td>\n",
       "      <td>LfJU-BYW5WTh8y7gFfPOfw</td>\n",
       "      <td>5</td>\n",
       "      <td>2017-02-26</td>\n",
       "      <td>Oasis is great! I went later in the evening, s...</td>\n",
       "      <td>1</td>\n",
       "      <td>0</td>\n",
       "      <td>1</td>\n",
       "    </tr>\n",
       "    <tr>\n",
       "      <th>3312823</th>\n",
       "      <td>w9kjHOphrugGkygf9QUo2Q</td>\n",
       "      <td>aZVKgTkftSHHe45qr6Yq7w</td>\n",
       "      <td>WlBvw6R1Qe2yIaZp-2ilZA</td>\n",
       "      <td>4</td>\n",
       "      <td>2014-08-21</td>\n",
       "      <td>What an interesting place.  We stopped here fo...</td>\n",
       "      <td>1</td>\n",
       "      <td>1</td>\n",
       "      <td>1</td>\n",
       "    </tr>\n",
       "    <tr>\n",
       "      <th>1264106</th>\n",
       "      <td>zsbolGlLhuUuIlS5MPKS2g</td>\n",
       "      <td>ZvKVqKJ5AcdEulB5rKlRCg</td>\n",
       "      <td>X-ZAD3eMkThGL9hrKdQooQ</td>\n",
       "      <td>5</td>\n",
       "      <td>2013-05-25</td>\n",
       "      <td>This is THE spot in Phoenix for fried fish and...</td>\n",
       "      <td>5</td>\n",
       "      <td>0</td>\n",
       "      <td>1</td>\n",
       "    </tr>\n",
       "    <tr>\n",
       "      <th>4107793</th>\n",
       "      <td>9w5_HYf5_1sIHKz-grPg9w</td>\n",
       "      <td>ENtSjbekFHjltp2TFkstHg</td>\n",
       "      <td>4JNXUYY8wbaaDmk3BPzlWw</td>\n",
       "      <td>5</td>\n",
       "      <td>2012-05-17</td>\n",
       "      <td>BONJOUR!!!!! \\n\\nI am not a big fan of Frenchy...</td>\n",
       "      <td>4</td>\n",
       "      <td>6</td>\n",
       "      <td>6</td>\n",
       "    </tr>\n",
       "    <tr>\n",
       "      <th>5174782</th>\n",
       "      <td>RGsZ2RxICtpikJUlCAKYhg</td>\n",
       "      <td>NeJmKmZygkrzy-ODayqDSQ</td>\n",
       "      <td>Xd6yHhyFYgHzth0ou2FtkQ</td>\n",
       "      <td>5</td>\n",
       "      <td>2015-07-07</td>\n",
       "      <td>Amazing. I actually thought it was better coff...</td>\n",
       "      <td>0</td>\n",
       "      <td>0</td>\n",
       "      <td>0</td>\n",
       "    </tr>\n",
       "  </tbody>\n",
       "</table>\n",
       "</div>"
      ],
      "text/plain": [
       "                      review_id                 user_id  \\\n",
       "1514311  w2JuB9QqfV5O3S3Q7vfg_Q  sQUQavVTsC7HqJFdW97XNg   \n",
       "3312823  w9kjHOphrugGkygf9QUo2Q  aZVKgTkftSHHe45qr6Yq7w   \n",
       "1264106  zsbolGlLhuUuIlS5MPKS2g  ZvKVqKJ5AcdEulB5rKlRCg   \n",
       "4107793  9w5_HYf5_1sIHKz-grPg9w  ENtSjbekFHjltp2TFkstHg   \n",
       "5174782  RGsZ2RxICtpikJUlCAKYhg  NeJmKmZygkrzy-ODayqDSQ   \n",
       "\n",
       "                    business_id  stars        date  \\\n",
       "1514311  LfJU-BYW5WTh8y7gFfPOfw      5  2017-02-26   \n",
       "3312823  WlBvw6R1Qe2yIaZp-2ilZA      4  2014-08-21   \n",
       "1264106  X-ZAD3eMkThGL9hrKdQooQ      5  2013-05-25   \n",
       "4107793  4JNXUYY8wbaaDmk3BPzlWw      5  2012-05-17   \n",
       "5174782  Xd6yHhyFYgHzth0ou2FtkQ      5  2015-07-07   \n",
       "\n",
       "                                                      text  useful  funny  \\\n",
       "1514311  Oasis is great! I went later in the evening, s...       1      0   \n",
       "3312823  What an interesting place.  We stopped here fo...       1      1   \n",
       "1264106  This is THE spot in Phoenix for fried fish and...       5      0   \n",
       "4107793  BONJOUR!!!!! \\n\\nI am not a big fan of Frenchy...       4      6   \n",
       "5174782  Amazing. I actually thought it was better coff...       0      0   \n",
       "\n",
       "         cool  \n",
       "1514311     1  \n",
       "3312823     1  \n",
       "1264106     1  \n",
       "4107793     6  \n",
       "5174782     0  "
      ]
     },
     "execution_count": 8,
     "metadata": {},
     "output_type": "execute_result"
    }
   ],
   "source": [
    "review_sample = review.sample(frac = 0.1, replace = False, random_state=13)\n",
    "review_sample.shape\n",
    "review_sample.head()"
   ]
  },
  {
   "cell_type": "markdown",
   "metadata": {},
   "source": [
    "Adding a new variable to represent the length of the reviews enables us to see if there is any relation between the sentiment and lenght of the review. "
   ]
  },
  {
   "cell_type": "code",
   "execution_count": 9,
   "metadata": {},
   "outputs": [
    {
     "data": {
      "text/html": [
       "<div>\n",
       "<style scoped>\n",
       "    .dataframe tbody tr th:only-of-type {\n",
       "        vertical-align: middle;\n",
       "    }\n",
       "\n",
       "    .dataframe tbody tr th {\n",
       "        vertical-align: top;\n",
       "    }\n",
       "\n",
       "    .dataframe thead th {\n",
       "        text-align: right;\n",
       "    }\n",
       "</style>\n",
       "<table border=\"1\" class=\"dataframe\">\n",
       "  <thead>\n",
       "    <tr style=\"text-align: right;\">\n",
       "      <th></th>\n",
       "      <th>review_id</th>\n",
       "      <th>user_id</th>\n",
       "      <th>business_id</th>\n",
       "      <th>stars</th>\n",
       "      <th>date</th>\n",
       "      <th>text</th>\n",
       "      <th>useful</th>\n",
       "      <th>funny</th>\n",
       "      <th>cool</th>\n",
       "      <th>text length</th>\n",
       "    </tr>\n",
       "  </thead>\n",
       "  <tbody>\n",
       "    <tr>\n",
       "      <th>1514311</th>\n",
       "      <td>w2JuB9QqfV5O3S3Q7vfg_Q</td>\n",
       "      <td>sQUQavVTsC7HqJFdW97XNg</td>\n",
       "      <td>LfJU-BYW5WTh8y7gFfPOfw</td>\n",
       "      <td>5</td>\n",
       "      <td>2017-02-26</td>\n",
       "      <td>Oasis is great! I went later in the evening, s...</td>\n",
       "      <td>1</td>\n",
       "      <td>0</td>\n",
       "      <td>1</td>\n",
       "      <td>557</td>\n",
       "    </tr>\n",
       "    <tr>\n",
       "      <th>3312823</th>\n",
       "      <td>w9kjHOphrugGkygf9QUo2Q</td>\n",
       "      <td>aZVKgTkftSHHe45qr6Yq7w</td>\n",
       "      <td>WlBvw6R1Qe2yIaZp-2ilZA</td>\n",
       "      <td>4</td>\n",
       "      <td>2014-08-21</td>\n",
       "      <td>What an interesting place.  We stopped here fo...</td>\n",
       "      <td>1</td>\n",
       "      <td>1</td>\n",
       "      <td>1</td>\n",
       "      <td>440</td>\n",
       "    </tr>\n",
       "    <tr>\n",
       "      <th>1264106</th>\n",
       "      <td>zsbolGlLhuUuIlS5MPKS2g</td>\n",
       "      <td>ZvKVqKJ5AcdEulB5rKlRCg</td>\n",
       "      <td>X-ZAD3eMkThGL9hrKdQooQ</td>\n",
       "      <td>5</td>\n",
       "      <td>2013-05-25</td>\n",
       "      <td>This is THE spot in Phoenix for fried fish and...</td>\n",
       "      <td>5</td>\n",
       "      <td>0</td>\n",
       "      <td>1</td>\n",
       "      <td>865</td>\n",
       "    </tr>\n",
       "    <tr>\n",
       "      <th>4107793</th>\n",
       "      <td>9w5_HYf5_1sIHKz-grPg9w</td>\n",
       "      <td>ENtSjbekFHjltp2TFkstHg</td>\n",
       "      <td>4JNXUYY8wbaaDmk3BPzlWw</td>\n",
       "      <td>5</td>\n",
       "      <td>2012-05-17</td>\n",
       "      <td>BONJOUR!!!!! \\n\\nI am not a big fan of Frenchy...</td>\n",
       "      <td>4</td>\n",
       "      <td>6</td>\n",
       "      <td>6</td>\n",
       "      <td>2369</td>\n",
       "    </tr>\n",
       "    <tr>\n",
       "      <th>5174782</th>\n",
       "      <td>RGsZ2RxICtpikJUlCAKYhg</td>\n",
       "      <td>NeJmKmZygkrzy-ODayqDSQ</td>\n",
       "      <td>Xd6yHhyFYgHzth0ou2FtkQ</td>\n",
       "      <td>5</td>\n",
       "      <td>2015-07-07</td>\n",
       "      <td>Amazing. I actually thought it was better coff...</td>\n",
       "      <td>0</td>\n",
       "      <td>0</td>\n",
       "      <td>0</td>\n",
       "      <td>235</td>\n",
       "    </tr>\n",
       "  </tbody>\n",
       "</table>\n",
       "</div>"
      ],
      "text/plain": [
       "                      review_id                 user_id  \\\n",
       "1514311  w2JuB9QqfV5O3S3Q7vfg_Q  sQUQavVTsC7HqJFdW97XNg   \n",
       "3312823  w9kjHOphrugGkygf9QUo2Q  aZVKgTkftSHHe45qr6Yq7w   \n",
       "1264106  zsbolGlLhuUuIlS5MPKS2g  ZvKVqKJ5AcdEulB5rKlRCg   \n",
       "4107793  9w5_HYf5_1sIHKz-grPg9w  ENtSjbekFHjltp2TFkstHg   \n",
       "5174782  RGsZ2RxICtpikJUlCAKYhg  NeJmKmZygkrzy-ODayqDSQ   \n",
       "\n",
       "                    business_id  stars        date  \\\n",
       "1514311  LfJU-BYW5WTh8y7gFfPOfw      5  2017-02-26   \n",
       "3312823  WlBvw6R1Qe2yIaZp-2ilZA      4  2014-08-21   \n",
       "1264106  X-ZAD3eMkThGL9hrKdQooQ      5  2013-05-25   \n",
       "4107793  4JNXUYY8wbaaDmk3BPzlWw      5  2012-05-17   \n",
       "5174782  Xd6yHhyFYgHzth0ou2FtkQ      5  2015-07-07   \n",
       "\n",
       "                                                      text  useful  funny  \\\n",
       "1514311  Oasis is great! I went later in the evening, s...       1      0   \n",
       "3312823  What an interesting place.  We stopped here fo...       1      1   \n",
       "1264106  This is THE spot in Phoenix for fried fish and...       5      0   \n",
       "4107793  BONJOUR!!!!! \\n\\nI am not a big fan of Frenchy...       4      6   \n",
       "5174782  Amazing. I actually thought it was better coff...       0      0   \n",
       "\n",
       "         cool  text length  \n",
       "1514311     1          557  \n",
       "3312823     1          440  \n",
       "1264106     1          865  \n",
       "4107793     6         2369  \n",
       "5174782     0          235  "
      ]
     },
     "execution_count": 9,
     "metadata": {},
     "output_type": "execute_result"
    }
   ],
   "source": [
    "review_sample['text length'] = review_sample['text'].apply(len)\n",
    "review_sample.head(5)"
   ]
  },
  {
   "cell_type": "markdown",
   "metadata": {},
   "source": [
    "The distribution of text length looks similar across all five ratings. However, the count of text reviews seems to be skewed a lot higher towards the 4-star and 5-star ratings."
   ]
  },
  {
   "cell_type": "markdown",
   "metadata": {},
   "source": [
    "The boxplot shows that reviews with a lower star rating (i.e 1 and 2) tend to have a higer median length as compared to the higher star reviews. We can infer that when people are unhappy or want to express a negative sentiment, they tend to write more content in the reviews. So, a shorter review is not always a bad indicator as these could mean users with positive sentiment use fewer words describing their experience."
   ]
  },
  {
   "cell_type": "code",
   "execution_count": 12,
   "metadata": {},
   "outputs": [
    {
     "data": {
      "image/png": "[encoded data removed]",
      "text/plain": [
       "<matplotlib.figure.Figure at 0x28f8cb0d5c0>"
      ]
     },
     "metadata": {},
     "output_type": "display_data"
    }
   ],
   "source": [
    "g = sns.FacetGrid(data=review_sample, col='stars')\n",
    "g.map(plt.hist, 'text length', bins=50)\n",
    "plt.show()"
   ]
  },
  {
   "cell_type": "code",
   "execution_count": 11,
   "metadata": {},
   "outputs": [
    {
     "data": {
      "image/png": "[encoded data removed]",
      "text/plain": [
       "<matplotlib.figure.Figure at 0x29036e7e0f0>"
      ]
     },
     "metadata": {},
     "output_type": "display_data"
    }
   ],
   "source": [
    "box = sns.boxplot(x='stars', y='text length', data=review_sample)\n",
    "plt.show()"
   ]
  },
  {
   "cell_type": "markdown",
   "metadata": {},
   "source": [
    "We will filter the dataset to contain only the 5-star and 1-star reviews as they represent opposite sentiments and will enable us to design the problem into a simple binary classification as opposed to a multinomial classification problem otherwise."
   ]
  },
  {
   "cell_type": "code",
   "execution_count": 13,
   "metadata": {},
   "outputs": [
    {
     "name": "stderr",
     "output_type": "stream",
     "text": [
      "C:\\Users\\09322\\AppData\\Local\\Continuum\\anaconda3\\lib\\site-packages\\ipykernel_launcher.py:2: SettingWithCopyWarning: \n",
      "A value is trying to be set on a copy of a slice from a DataFrame.\n",
      "Try using .loc[row_indexer,col_indexer] = value instead\n",
      "\n",
      "See the caveats in the documentation: http://pandas.pydata.org/pandas-docs/stable/indexing.html#indexing-view-versus-copy\n",
      "  \n"
     ]
    },
    {
     "data": {
      "text/html": [
       "<div>\n",
       "<style scoped>\n",
       "    .dataframe tbody tr th:only-of-type {\n",
       "        vertical-align: middle;\n",
       "    }\n",
       "\n",
       "    .dataframe tbody tr th {\n",
       "        vertical-align: top;\n",
       "    }\n",
       "\n",
       "    .dataframe thead th {\n",
       "        text-align: right;\n",
       "    }\n",
       "</style>\n",
       "<table border=\"1\" class=\"dataframe\">\n",
       "  <thead>\n",
       "    <tr style=\"text-align: right;\">\n",
       "      <th>col_0</th>\n",
       "      <th>Total count</th>\n",
       "    </tr>\n",
       "    <tr>\n",
       "      <th>Positive</th>\n",
       "      <th></th>\n",
       "    </tr>\n",
       "  </thead>\n",
       "  <tbody>\n",
       "    <tr>\n",
       "      <th>0</th>\n",
       "      <td>73471</td>\n",
       "    </tr>\n",
       "    <tr>\n",
       "      <th>1</th>\n",
       "      <td>225711</td>\n",
       "    </tr>\n",
       "  </tbody>\n",
       "</table>\n",
       "</div>"
      ],
      "text/plain": [
       "col_0     Total count\n",
       "Positive             \n",
       "0               73471\n",
       "1              225711"
      ]
     },
     "execution_count": 13,
     "metadata": {},
     "output_type": "execute_result"
    }
   ],
   "source": [
    "review_one_five = review_sample[(review_sample.stars==5) | (review_sample.stars==1)]\n",
    "review_one_five['Positive'] = np.where(review_one_five['stars']>1, 1, 0)\n",
    "review_one_five.shape\n",
    "\n",
    "# examine the class distribution\n",
    "# review_one_five.head(10)\n",
    "pd.crosstab(index = review_one_five['Positive'], columns=\"Total count\")"
   ]
  },
  {
   "cell_type": "markdown",
   "metadata": {},
   "source": [
    "The dataset that we will be using for model building and validation has class imbalance as seen from the class distribution of reviews.(0 = 73471, 1 = 225711) Since the difference is not huge let the proportion be same as this, if the difference in proportion is huge such as 90% of data belongs to one class and 10% belongs to other then it creates some trouble, in our case it is roughly around 25% which is Okay. We can use sklearn.model_selection.StratifiedShuffleSplit() for correcting imbalanced classes, The splits are done by preserving the percentage of samples for each class. Splitting Train and Test Set, you are going to split using scikit learn sklearn.model_selection.train_test_split() which is random split of datset in to train and test sets."
   ]
  },
  {
   "cell_type": "code",
   "execution_count": 14,
   "metadata": {},
   "outputs": [
    {
     "name": "stdout",
     "output_type": "stream",
     "text": [
      "X_train first entry:\n",
      "\n",
      " If I could give this place 0 stars I would. I hate cigarette smoke, so the fact that it's 2017 and the whole bar is still a smoking area is a bit of a turn off. I could overlook that and give this place a chance, but their female bartender has to be the absolute rudest person I ever had the displeasure of dealing with. The place was busy, but my friend and I tipped well with every drink (while others didn't tip at all). Then when ordering another round of drinks, we watched as she went around the entire bar not once, not twice, but three times skipping over us each time. On the third time around, my friend gasped in disbelief - not on purpose, that was just her involuntary reaction because that's how ridiculous it was. The bartender addressed that by saying \"go somewhere else and wait even longer then.\" So we grabbed our stuff, walked down the street, and were immediately served in the next bar we went to. We did not mind waiting, we knew it was busy so we empathized with her, but for her to purposely be skipping us and then make that remark instead of apologizing and serving us next was just unacceptable. For this very reason I will not be back here. There are so many better, cleaner, and overall nicer bars that you can go to. I suggest skipping over this one.\n",
      "\n",
      "\n",
      "X_train shape:  (224386,)\n"
     ]
    }
   ],
   "source": [
    "from sklearn.model_selection import train_test_split\n",
    "# Split data into training and test sets\n",
    "X_train, X_test, y_train, y_test = train_test_split(review_one_five['text'], review_one_five['Positive'], random_state=0)\n",
    "\n",
    "print('X_train first entry:\\n\\n', X_train.iloc[2])\n",
    "print('\\n\\nX_train shape: ', X_train.shape)"
   ]
  },
  {
   "cell_type": "markdown",
   "metadata": {},
   "source": [
    "Now, we'll perform processing on individual sentences or reviews. Each individual review is tokenized into words. Word tokenization is performed using a sklearn.feature_extraction.text.CountVectorizer(). Tokenization converts a collection of text documents to a list of token counts, produces a sparse representation of the counts. For example, if you have a text document \"If I could give this place 0 stars I would\", then .CountVectorizer() will convert this text (string) to list format [if, I, could, give, this, place, 0, stars, would]."
   ]
  },
  {
   "cell_type": "code",
   "execution_count": 16,
   "metadata": {},
   "outputs": [],
   "source": [
    "from sklearn.feature_extraction.text import CountVectorizer\n",
    "# Fit the CountVectorizer to the training data\n",
    "vect = CountVectorizer().fit(X_train)\n",
    "# Array mapping from feature integer indices to feature name\n",
    "# vect.get_feature_names()[::2000]"
   ]
  },
  {
   "cell_type": "markdown",
   "metadata": {},
   "source": [
    "A document-term matrix is a mathematical matrix that describes the frequency of terms that occur in a collection of documents. In a document-term matrix, rows correspond to documents in the collection and columns correspond to terms. There are various schemes for determining the value that each entry in the matrix should take. One such scheme is tf-idf. They are useful in the field of natural language processing. Now we have tokenized matrix of text document or reviews, we can use Logistic Regression or any other classifier to classify between the Negative and Positive Reviews for the limitation of this tutorial and just to show the intent of text classification and feature extraction techniques let us use logistic regression. Before you do that just have a look how feature matrix look like, using Vectorizer.transform() to make a document term matrix."
   ]
  },
  {
   "cell_type": "code",
   "execution_count": 18,
   "metadata": {},
   "outputs": [
    {
     "name": "stdout",
     "output_type": "stream",
     "text": [
      "Shape of matrix (224386, 129659)\n"
     ]
    },
    {
     "ename": "MemoryError",
     "evalue": "",
     "output_type": "error",
     "traceback": [
      "\u001b[1;31m---------------------------------------------------------------------------\u001b[0m",
      "\u001b[1;31mMemoryError\u001b[0m                               Traceback (most recent call last)",
      "\u001b[1;32m<ipython-input-18-d4b34b5ab9af>\u001b[0m in \u001b[0;36m<module>\u001b[1;34m()\u001b[0m\n\u001b[0;32m      2\u001b[0m \u001b[0mX_train_vectorized\u001b[0m \u001b[1;33m=\u001b[0m \u001b[0mvect\u001b[0m\u001b[1;33m.\u001b[0m\u001b[0mtransform\u001b[0m\u001b[1;33m(\u001b[0m\u001b[0mX_train\u001b[0m\u001b[1;33m)\u001b[0m\u001b[1;33m\u001b[0m\u001b[0m\n\u001b[0;32m      3\u001b[0m \u001b[0mprint\u001b[0m\u001b[1;33m(\u001b[0m\u001b[1;34m'Shape of matrix'\u001b[0m\u001b[1;33m,\u001b[0m \u001b[0mX_train_vectorized\u001b[0m\u001b[1;33m.\u001b[0m\u001b[0mshape\u001b[0m\u001b[1;33m)\u001b[0m\u001b[1;33m\u001b[0m\u001b[0m\n\u001b[1;32m----> 4\u001b[1;33m \u001b[0mprint\u001b[0m\u001b[1;33m(\u001b[0m\u001b[0mX_train_vectorized\u001b[0m\u001b[1;33m.\u001b[0m\u001b[0mtoarray\u001b[0m\u001b[1;33m(\u001b[0m\u001b[1;33m)\u001b[0m\u001b[1;33m[\u001b[0m\u001b[1;36m2\u001b[0m\u001b[1;33m]\u001b[0m\u001b[1;33m)\u001b[0m\u001b[1;33m\u001b[0m\u001b[0m\n\u001b[0m",
      "\u001b[1;32m~\\AppData\\Local\\Continuum\\anaconda3\\lib\\site-packages\\scipy\\sparse\\compressed.py\u001b[0m in \u001b[0;36mtoarray\u001b[1;34m(self, order, out)\u001b[0m\n\u001b[0;32m    941\u001b[0m         \u001b[1;32mif\u001b[0m \u001b[0mout\u001b[0m \u001b[1;32mis\u001b[0m \u001b[1;32mNone\u001b[0m \u001b[1;32mand\u001b[0m \u001b[0morder\u001b[0m \u001b[1;32mis\u001b[0m \u001b[1;32mNone\u001b[0m\u001b[1;33m:\u001b[0m\u001b[1;33m\u001b[0m\u001b[0m\n\u001b[0;32m    942\u001b[0m             \u001b[0morder\u001b[0m \u001b[1;33m=\u001b[0m \u001b[0mself\u001b[0m\u001b[1;33m.\u001b[0m\u001b[0m_swap\u001b[0m\u001b[1;33m(\u001b[0m\u001b[1;34m'cf'\u001b[0m\u001b[1;33m)\u001b[0m\u001b[1;33m[\u001b[0m\u001b[1;36m0\u001b[0m\u001b[1;33m]\u001b[0m\u001b[1;33m\u001b[0m\u001b[0m\n\u001b[1;32m--> 943\u001b[1;33m         \u001b[0mout\u001b[0m \u001b[1;33m=\u001b[0m \u001b[0mself\u001b[0m\u001b[1;33m.\u001b[0m\u001b[0m_process_toarray_args\u001b[0m\u001b[1;33m(\u001b[0m\u001b[0morder\u001b[0m\u001b[1;33m,\u001b[0m \u001b[0mout\u001b[0m\u001b[1;33m)\u001b[0m\u001b[1;33m\u001b[0m\u001b[0m\n\u001b[0m\u001b[0;32m    944\u001b[0m         \u001b[1;32mif\u001b[0m \u001b[1;32mnot\u001b[0m \u001b[1;33m(\u001b[0m\u001b[0mout\u001b[0m\u001b[1;33m.\u001b[0m\u001b[0mflags\u001b[0m\u001b[1;33m.\u001b[0m\u001b[0mc_contiguous\u001b[0m \u001b[1;32mor\u001b[0m \u001b[0mout\u001b[0m\u001b[1;33m.\u001b[0m\u001b[0mflags\u001b[0m\u001b[1;33m.\u001b[0m\u001b[0mf_contiguous\u001b[0m\u001b[1;33m)\u001b[0m\u001b[1;33m:\u001b[0m\u001b[1;33m\u001b[0m\u001b[0m\n\u001b[0;32m    945\u001b[0m             \u001b[1;32mraise\u001b[0m \u001b[0mValueError\u001b[0m\u001b[1;33m(\u001b[0m\u001b[1;34m'Output array must be C or F contiguous'\u001b[0m\u001b[1;33m)\u001b[0m\u001b[1;33m\u001b[0m\u001b[0m\n",
      "\u001b[1;32m~\\AppData\\Local\\Continuum\\anaconda3\\lib\\site-packages\\scipy\\sparse\\base.py\u001b[0m in \u001b[0;36m_process_toarray_args\u001b[1;34m(self, order, out)\u001b[0m\n\u001b[0;32m   1128\u001b[0m             \u001b[1;32mreturn\u001b[0m \u001b[0mout\u001b[0m\u001b[1;33m\u001b[0m\u001b[0m\n\u001b[0;32m   1129\u001b[0m         \u001b[1;32melse\u001b[0m\u001b[1;33m:\u001b[0m\u001b[1;33m\u001b[0m\u001b[0m\n\u001b[1;32m-> 1130\u001b[1;33m             \u001b[1;32mreturn\u001b[0m \u001b[0mnp\u001b[0m\u001b[1;33m.\u001b[0m\u001b[0mzeros\u001b[0m\u001b[1;33m(\u001b[0m\u001b[0mself\u001b[0m\u001b[1;33m.\u001b[0m\u001b[0mshape\u001b[0m\u001b[1;33m,\u001b[0m \u001b[0mdtype\u001b[0m\u001b[1;33m=\u001b[0m\u001b[0mself\u001b[0m\u001b[1;33m.\u001b[0m\u001b[0mdtype\u001b[0m\u001b[1;33m,\u001b[0m \u001b[0morder\u001b[0m\u001b[1;33m=\u001b[0m\u001b[0morder\u001b[0m\u001b[1;33m)\u001b[0m\u001b[1;33m\u001b[0m\u001b[0m\n\u001b[0m\u001b[0;32m   1131\u001b[0m \u001b[1;33m\u001b[0m\u001b[0m\n\u001b[0;32m   1132\u001b[0m     \u001b[1;32mdef\u001b[0m \u001b[0m__numpy_ufunc__\u001b[0m\u001b[1;33m(\u001b[0m\u001b[0mself\u001b[0m\u001b[1;33m,\u001b[0m \u001b[0mfunc\u001b[0m\u001b[1;33m,\u001b[0m \u001b[0mmethod\u001b[0m\u001b[1;33m,\u001b[0m \u001b[0mpos\u001b[0m\u001b[1;33m,\u001b[0m \u001b[0minputs\u001b[0m\u001b[1;33m,\u001b[0m \u001b[1;33m**\u001b[0m\u001b[0mkwargs\u001b[0m\u001b[1;33m)\u001b[0m\u001b[1;33m:\u001b[0m\u001b[1;33m\u001b[0m\u001b[0m\n",
      "\u001b[1;31mMemoryError\u001b[0m: "
     ]
    }
   ],
   "source": [
    "# transform the documents in the training data to a document-term matrix\n",
    "X_train_vectorized = vect.transform(X_train)\n",
    "print('Shape of matrix', X_train_vectorized.shape)\n",
    "print(X_train_vectorized.toarray()[2])"
   ]
  },
  {
   "cell_type": "markdown",
   "metadata": {},
   "source": [
    "# First Classification Model\n",
    "Now, we are ready to build first classification model, we are using sklearn.linear_model.LogisticRegression() from scikit learn as our first model."
   ]
  },
  {
   "cell_type": "code",
   "execution_count": 19,
   "metadata": {},
   "outputs": [
    {
     "data": {
      "text/plain": [
       "LogisticRegression(C=1.0, class_weight=None, dual=False, fit_intercept=True,\n",
       "          intercept_scaling=1, max_iter=100, multi_class='ovr', n_jobs=1,\n",
       "          penalty='l2', random_state=None, solver='liblinear', tol=0.0001,\n",
       "          verbose=0, warm_start=False)"
      ]
     },
     "execution_count": 19,
     "metadata": {},
     "output_type": "execute_result"
    }
   ],
   "source": [
    "from sklearn.linear_model import LogisticRegression,SGDClassifier\n",
    "# Train the model\n",
    "model = LogisticRegression()\n",
    "model.fit(X_train_vectorized, y_train)"
   ]
  },
  {
   "cell_type": "markdown",
   "metadata": {},
   "source": [
    "From the Logistic Regression output we can use AUC metric to validate or test the model on test dataset, just to make sure how good a model is performing on new dataset."
   ]
  },
  {
   "cell_type": "code",
   "execution_count": 20,
   "metadata": {},
   "outputs": [
    {
     "name": "stdout",
     "output_type": "stream",
     "text": [
      "AUC:  0.9653411128399818\n"
     ]
    }
   ],
   "source": [
    "from sklearn.metrics import roc_curve, roc_auc_score, auc\n",
    "# Predict the transformed test documents\n",
    "predictions = model.predict(vect.transform(X_test))\n",
    "print('AUC: ', roc_auc_score(y_test, predictions))\n",
    "false_positive_rate, true_positive_rate, thresholds = roc_curve(y_test, predictions)\n",
    "roc_auc = auc(false_positive_rate, true_positive_rate)"
   ]
  },
  {
   "cell_type": "markdown",
   "metadata": {},
   "source": [
    "It is a pretty good Score for initial modelling, let us try out if we can further improve the model score."
   ]
  },
  {
   "cell_type": "code",
   "execution_count": 21,
   "metadata": {},
   "outputs": [
    {
     "data": {
      "text/plain": [
       "Text(0.5,0,'False Positive Rate')"
      ]
     },
     "execution_count": 21,
     "metadata": {},
     "output_type": "execute_result"
    },
    {
     "data": {
      "image/png": "[encoded data removed]",
      "text/plain": [
       "<matplotlib.figure.Figure at 0x29009250780>"
      ]
     },
     "metadata": {},
     "output_type": "display_data"
    }
   ],
   "source": [
    "plt.title('Receiver Operating Characteristic')\n",
    "plt.plot(false_positive_rate, true_positive_rate, 'b', label='AUC = %0.3f'% roc_auc)\n",
    "plt.legend(loc='lower right')\n",
    "plt.plot([0,1],[0,1],'r--')\n",
    "plt.ylabel('True Positive Rate')\n",
    "plt.xlabel('False Positive Rate')"
   ]
  },
  {
   "cell_type": "markdown",
   "metadata": {},
   "source": [
    "# TF-IDF\n",
    "\n",
    "(TF-IDF) is another way to judge the topic of an article by the words it contains. With TF-IDF, words are given weight – TF-IDF measures relevance, not frequency. That is, wordcounts are replaced with TF-IDF scores across the whole dataset.\n",
    "\n",
    "There are some parameters which needs to be defined while building vocabullary or Tf-Idf matrix such as, min_df and max_df.\n",
    "\n",
    "* min_df is used for removing terms that appear too infrequently. For example:\n",
    "* min_df = 0.05 means \"ignore terms that appear in less than 5% of the documents\".\n",
    "* min_df = 5 means \"ignore terms that appear in less than 5 documents\".\n",
    "* max_df is used for removing terms that appear too frequently, also known as \"corpus-specific stop words\". For example:\n",
    "* max_df = 0.50 means \"ignore terms that appear in more than 50% of the documents\".\n",
    "* max_df = 25 means \"ignore terms that appear in more than 25 documents\".\n",
    "\n",
    " This can be considered as a hyperparmater which directly affects accuracy of the model so we need to do a grid search to find what value of min_df or max_df gives best result, again it highly depends on your data. This value is also called cut-off in the literature."
   ]
  },
  {
   "cell_type": "code",
   "execution_count": 22,
   "metadata": {},
   "outputs": [
    {
     "name": "stdout",
     "output_type": "stream",
     "text": [
      "AUC:  0.9653411128399818\n"
     ]
    }
   ],
   "source": [
    "from sklearn.feature_extraction.text import TfidfVectorizer\n",
    "# Fit the TfidfVectorizer to the training data specifiying a minimum document frequency of 0.05 and \n",
    "#maximum document frequency of 0.50; \n",
    "# we can play with it and see how accuracy changes \n",
    "vect_tf = TfidfVectorizer(min_df=0.05, max_df=0.50).fit(X_train)\n",
    "\n",
    "X_train_vectorized_tf = vect.transform(X_train)\n",
    "model = LogisticRegression()\n",
    "model.fit(X_train_vectorized_tf, y_train)\n",
    "predictions_tf = model.predict(vect.transform(X_test))\n",
    "print('AUC: ', roc_auc_score(y_test, predictions_tf))"
   ]
  },
  {
   "cell_type": "markdown",
   "metadata": {},
   "source": [
    "# N-Gram\n",
    "\n",
    "Unigram means a single word. In a unigram tagger, a single token is used to find the particular parts-of-speech tag. So when you extend a token to be comprised of more than one word for example if a token is of size 2, is a \"bigram\" ; size 3 is a \"trigram\", \"four-gram\", \"five-gram\" and so on to \"n-grams\". An N-gram is simply a sequence of N  words. Basically, an N-gram model predicts the occurrence of a word based on the occurrence of its N – 1 previous words. "
   ]
  },
  {
   "cell_type": "code",
   "execution_count": 23,
   "metadata": {},
   "outputs": [],
   "source": [
    "# Fit the CountVectorizer to the training data specifiying a minimum \n",
    "# document frequency of 5 and extracting 1-grams, 2-grams and 3-grams\n",
    "vect = CountVectorizer(min_df=5, ngram_range=(1,3)).fit(X_train)\n",
    "X_train_vectorized = vect.transform(X_train)"
   ]
  },
  {
   "cell_type": "code",
   "execution_count": 24,
   "metadata": {},
   "outputs": [
    {
     "name": "stdout",
     "output_type": "stream",
     "text": [
      "AUC:  0.975354966479385\n"
     ]
    }
   ],
   "source": [
    "model = LogisticRegression()\n",
    "model.fit(X_train_vectorized, y_train)\n",
    "predictions = model.predict(vect.transform(X_test))\n",
    "false_positive_rate, true_positive_rate, thresholds = roc_curve(y_test, predictions)\n",
    "roc_auc = auc(false_positive_rate, true_positive_rate)\n",
    "print('AUC: ', roc_auc_score(y_test, predictions))"
   ]
  },
  {
   "cell_type": "markdown",
   "metadata": {},
   "source": [
    "Thanks to the n-gram technique we were able to increase the AUC value from 0.965 to0.975."
   ]
  },
  {
   "cell_type": "code",
   "execution_count": 25,
   "metadata": {},
   "outputs": [
    {
     "name": "stdout",
     "output_type": "stream",
     "text": [
      "Confusion Matrix: \n",
      "[[17649   731]\n",
      " [  537 55879]]\n",
      "Accuracy:  0.9830472217765656\n"
     ]
    }
   ],
   "source": [
    "from sklearn import metrics\n",
    "# print the confusion matrix\n",
    "print('Confusion Matrix: ')\n",
    "print(metrics.confusion_matrix(y_test, predictions))\n",
    "# print the accuracy of its predictions\n",
    "print('Accuracy: ', metrics.accuracy_score(y_test, predictions))"
   ]
  },
  {
   "cell_type": "code",
   "execution_count": 27,
   "metadata": {
    "scrolled": true
   },
   "outputs": [
    {
     "name": "stdout",
     "output_type": "stream",
     "text": [
      "AUC:  0.9587655525068866\n",
      "Accuracy:  0.9615353762233274\n",
      "Confusion Matrix: \n",
      "[[17522   858]\n",
      " [ 2019 54397]]\n"
     ]
    }
   ],
   "source": [
    "# use Multinomial Naive Bayes to predict the star rating\n",
    "from sklearn.naive_bayes import MultinomialNB\n",
    "model = MultinomialNB()\n",
    "model.fit(X_train_vectorized, y_train)\n",
    "predictions = model.predict(vect.transform(X_test))\n",
    "false_positive_rate, true_positive_rate, thresholds = roc_curve(y_test, predictions)\n",
    "roc_auc = auc(false_positive_rate, true_positive_rate)\n",
    "print('AUC: ', roc_auc_score(y_test, predictions))\n",
    "\n",
    "# print the accuracy of its predictions\n",
    "print('Accuracy: ', metrics.accuracy_score(y_test, predictions))\n",
    "# print the confusion matrix\n",
    "print('Confusion Matrix: ')\n",
    "print(metrics.confusion_matrix(y_test, predictions))"
   ]
  },
  {
   "cell_type": "markdown",
   "metadata": {},
   "source": [
    "To benchmark our model, we build a baseline model and compute the null accuracy, which is the classification accuracy that could be achieved by always predicting the most frequent class(i.e a review rating of 5). The improvement over the baseline model would be a true representation of how good our model is."
   ]
  },
  {
   "cell_type": "markdown",
   "metadata": {},
   "source": [
    "Both the Logistic Regression model with an accuracy of 98.30% and The Naive Baye model with an accuracy of 96.15% show a substantial improvement over the baseline model which shows an accuracy of 75.4%.\n",
    "\n",
    "In our classification problem, both of the models have taken 5 star rating as positive class and 1 star rating as a negative class. The errors made by the models in binary classification problems can be of two types - False positives and False negatives.\n",
    "\n",
    "FALSE POSITIVE A false positive is a scenario where the actual label is 0 but the predicted label is 1. In this scenario if we predict an actual bad rating(1 star) as a good rating(5 star) we can call the observation to be a false positive\n",
    "\n",
    "FALSE NEGATIVE A false negative is a scenario where the actual label is 1 but the predicted label is 0. In this scenario if we predict an actual good rating(5 star) to be a bad rating(1 star) we can call the observation to be a false negative\n",
    "\n",
    "We can review the records which are false positives to analyze where the model is making mistakes. This intuition can help improve the accuracy in subsequent model iterations.\n"
   ]
  },
  {
   "cell_type": "code",
   "execution_count": 31,
   "metadata": {},
   "outputs": [
    {
     "data": {
      "text/plain": [
       "2687998    Eno Vino has slid downhill BIGtime.  It used t...\n",
       "1126890    Way way way too much frosting! How much sugar ...\n",
       "432202     Service was good...chicken was RAW. Calamari w...\n",
       "2802090    Wir waren gestern zum ersten Mal hier und wahr...\n",
       "4997833    I read the reviews on here, they sounded prett...\n",
       "2857631    Este Mcdonald's no merece ni una estrella. \\nP...\n",
       "2307917    Stuggi Burger fand ich ziemlich gut, bis ich d...\n",
       "1682995    Wie bereits eine Vorrednerin angemerkt hat, ha...\n",
       "4906812    We went for dinner, with trepidation, since pa...\n",
       "307358     Ferguson joined me on a business trip here and...\n",
       "Name: text, dtype: object"
      ]
     },
     "execution_count": 31,
     "metadata": {},
     "output_type": "execute_result"
    }
   ],
   "source": [
    "#####Filter out a sample of false positives#####\n",
    "X_test[y_test < predictions].sample(10, random_state=1313)"
   ]
  },
  {
   "cell_type": "markdown",
   "metadata": {},
   "source": [
    "We can review the records which are false negatives to analyze where the model is making mistakes. This intuition can help improve the accuracy in subsequent model iterations."
   ]
  },
  {
   "cell_type": "code",
   "execution_count": 33,
   "metadata": {},
   "outputs": [
    {
     "data": {
      "text/plain": [
       "2211564    I needed a pane of glass replaced for a frame ...\n",
       "2127616    I had a muscle injury & the doctor gave me a 3...\n",
       "5128441    I rarely ever leave positive feedback, mainly ...\n",
       "2114895    Some douchebag told me that \"Hearst Castle\" is...\n",
       "3727631    I don't have many complaints about this place....\n",
       "1068646    Driving through LV and the ac went out on a 11...\n",
       "3615500    I was in need of some last minute event suppli...\n",
       "116100     I had 1st call come out when my door went off ...\n",
       "4517943    Called two good plumbers about 7:20 in the mor...\n",
       "5204385    Love it! She got me in right away. Now I can s...\n",
       "Name: text, dtype: object"
      ]
     },
     "execution_count": 33,
     "metadata": {},
     "output_type": "execute_result"
    }
   ],
   "source": [
    "######Filter out a sample of false negatives#####\n",
    "X_test[y_test > predictions].sample(10, random_state=1313)"
   ]
  },
  {
   "cell_type": "markdown",
   "metadata": {},
   "source": [
    "It seems that Naive Bayes model is having difficulty to classify reviews which are sarcastic. This is one of the primary reasons for misclassification. Another example could be the case of double negation being used to indicate something positive. Two negative tokens can be combined to talk about something positive. This correlation between features will result in false classification as this model assumes features independence.\n",
    "\n",
    "Both Logistic Regression and Naive Bayes does not work well when there is class imbalance. The current data we trained on has strong imbalance and that can be one of the possible reasons for misclassification.\n",
    "\n",
    "We can also notice that there is a tendency for negative reviews to be much longer in detail. A quick examination shows some of the positive reviews have been pretty long and are misclassified. Including this feature along with the document-term matrix can further improve accuracy.\n",
    "\n",
    "We can further get some intuition on the the sentiment analysis by looking at the top tokens present in positive and negative reviews. We calculate which 10 tokens are the most predictive of 5-star reviews, and which 10 tokens are the most predictive of 1-star reviews."
   ]
  },
  {
   "cell_type": "code",
   "execution_count": 34,
   "metadata": {},
   "outputs": [
    {
     "data": {
      "text/html": [
       "<div>\n",
       "<style scoped>\n",
       "    .dataframe tbody tr th:only-of-type {\n",
       "        vertical-align: middle;\n",
       "    }\n",
       "\n",
       "    .dataframe tbody tr th {\n",
       "        vertical-align: top;\n",
       "    }\n",
       "\n",
       "    .dataframe thead th {\n",
       "        text-align: right;\n",
       "    }\n",
       "</style>\n",
       "<table border=\"1\" class=\"dataframe\">\n",
       "  <thead>\n",
       "    <tr style=\"text-align: right;\">\n",
       "      <th></th>\n",
       "      <th>five_star</th>\n",
       "      <th>one_star</th>\n",
       "    </tr>\n",
       "    <tr>\n",
       "      <th>token</th>\n",
       "      <th></th>\n",
       "      <th></th>\n",
       "    </tr>\n",
       "  </thead>\n",
       "  <tbody>\n",
       "    <tr>\n",
       "      <th>me message</th>\n",
       "      <td>7.0</td>\n",
       "      <td>18.0</td>\n",
       "    </tr>\n",
       "    <tr>\n",
       "      <th>where they should</th>\n",
       "      <td>9.0</td>\n",
       "      <td>5.0</td>\n",
       "    </tr>\n",
       "    <tr>\n",
       "      <th>where we ended</th>\n",
       "      <td>6.0</td>\n",
       "      <td>2.0</td>\n",
       "    </tr>\n",
       "    <tr>\n",
       "      <th>can cause</th>\n",
       "      <td>16.0</td>\n",
       "      <td>11.0</td>\n",
       "    </tr>\n",
       "    <tr>\n",
       "      <th>feel how</th>\n",
       "      <td>8.0</td>\n",
       "      <td>2.0</td>\n",
       "    </tr>\n",
       "  </tbody>\n",
       "</table>\n",
       "</div>"
      ],
      "text/plain": [
       "                   five_star  one_star\n",
       "token                                 \n",
       "me message               7.0      18.0\n",
       "where they should        9.0       5.0\n",
       "where we ended           6.0       2.0\n",
       "can cause               16.0      11.0\n",
       "feel how                 8.0       2.0"
      ]
     },
     "execution_count": 34,
     "metadata": {},
     "output_type": "execute_result"
    }
   ],
   "source": [
    "X_train_tokens = vect.get_feature_names()\n",
    "len(X_train_tokens)\n",
    "\n",
    "# Logistic regression counts the number of times each token appears in each class\n",
    "model.feature_count_\n",
    "\n",
    "# rows represent classes, columns represent tokens\n",
    "model.feature_count_.shape\n",
    "\n",
    "# number of times each token appears across all one star reviews\n",
    "one_star_token_count = model.feature_count_[0, :]\n",
    "one_star_token_count\n",
    "\n",
    "# number of times each token appears all 5 star reviews\n",
    "five_star_token_count = model.feature_count_[1, :]\n",
    "five_star_token_count\n",
    "\n",
    "# create a DataFrame of tokens with their separate bad review and good review counts\n",
    "tokens = pd.DataFrame({'token':X_train_tokens, 'one_star':one_star_token_count, 'five_star':five_star_token_count}).set_index('token')\n",
    "\n",
    "##examine a random sample of tokens#\n",
    "tokens.sample(5, random_state=3)\n",
    "\n",
    "# add 1 to avoid dividing by 0\n",
    "tokens['one_star'] = tokens.one_star + 1\n",
    "tokens['five_star'] = tokens.five_star + 1\n",
    "tokens.sample(5, random_state=3)"
   ]
  },
  {
   "cell_type": "markdown",
   "metadata": {},
   "source": [
    "We convert the count of a token to frequency of the token by dividing it with the total number of tokens in the respective class(five star or one star). This is done to compute the goodness of each token as a predictor relative to other tokens in its class. The top 10 tokens that help predict five star reviews can be seen below. Words like \"recommend\", \"definitely coming\", \"definitely come\", \"refreshing\", \"amazing\" etc. which have a positive meaning and tend to be more useful in predicting five star reviews."
   ]
  },
  {
   "cell_type": "code",
   "execution_count": 35,
   "metadata": {},
   "outputs": [
    {
     "data": {
      "text/html": [
       "<div>\n",
       "<style scoped>\n",
       "    .dataframe tbody tr th:only-of-type {\n",
       "        vertical-align: middle;\n",
       "    }\n",
       "\n",
       "    .dataframe tbody tr th {\n",
       "        vertical-align: top;\n",
       "    }\n",
       "\n",
       "    .dataframe thead th {\n",
       "        text-align: right;\n",
       "    }\n",
       "</style>\n",
       "<table border=\"1\" class=\"dataframe\">\n",
       "  <thead>\n",
       "    <tr style=\"text-align: right;\">\n",
       "      <th></th>\n",
       "      <th>five_star</th>\n",
       "      <th>one_star</th>\n",
       "      <th>fivestar_to_onestar_ratio</th>\n",
       "    </tr>\n",
       "    <tr>\n",
       "      <th>token</th>\n",
       "      <th></th>\n",
       "      <th></th>\n",
       "      <th></th>\n",
       "    </tr>\n",
       "  </thead>\n",
       "  <tbody>\n",
       "    <tr>\n",
       "      <th>definitely be back</th>\n",
       "      <td>0.017898</td>\n",
       "      <td>0.000036</td>\n",
       "      <td>493.002540</td>\n",
       "    </tr>\n",
       "    <tr>\n",
       "      <th>definitely come back</th>\n",
       "      <td>0.006627</td>\n",
       "      <td>0.000018</td>\n",
       "      <td>365.114752</td>\n",
       "    </tr>\n",
       "    <tr>\n",
       "      <th>definitely recommend this</th>\n",
       "      <td>0.005535</td>\n",
       "      <td>0.000018</td>\n",
       "      <td>304.913122</td>\n",
       "    </tr>\n",
       "    <tr>\n",
       "      <th>definitely be coming</th>\n",
       "      <td>0.003574</td>\n",
       "      <td>0.000018</td>\n",
       "      <td>196.875602</td>\n",
       "    </tr>\n",
       "    <tr>\n",
       "      <th>definitely coming back</th>\n",
       "      <td>0.003131</td>\n",
       "      <td>0.000018</td>\n",
       "      <td>172.469535</td>\n",
       "    </tr>\n",
       "    <tr>\n",
       "      <th>will definitely return</th>\n",
       "      <td>0.003018</td>\n",
       "      <td>0.000018</td>\n",
       "      <td>166.286665</td>\n",
       "    </tr>\n",
       "    <tr>\n",
       "      <th>highly recommend this</th>\n",
       "      <td>0.015441</td>\n",
       "      <td>0.000109</td>\n",
       "      <td>141.772128</td>\n",
       "    </tr>\n",
       "    <tr>\n",
       "      <th>would definitely come</th>\n",
       "      <td>0.002569</td>\n",
       "      <td>0.000018</td>\n",
       "      <td>141.555185</td>\n",
       "    </tr>\n",
       "    <tr>\n",
       "      <th>definitely be returning</th>\n",
       "      <td>0.002499</td>\n",
       "      <td>0.000018</td>\n",
       "      <td>137.650214</td>\n",
       "    </tr>\n",
       "    <tr>\n",
       "      <th>definitely go back</th>\n",
       "      <td>0.004938</td>\n",
       "      <td>0.000036</td>\n",
       "      <td>136.023143</td>\n",
       "    </tr>\n",
       "  </tbody>\n",
       "</table>\n",
       "</div>"
      ],
      "text/plain": [
       "                           five_star  one_star  fivestar_to_onestar_ratio\n",
       "token                                                                    \n",
       "definitely be back          0.017898  0.000036                 493.002540\n",
       "definitely come back        0.006627  0.000018                 365.114752\n",
       "definitely recommend this   0.005535  0.000018                 304.913122\n",
       "definitely be coming        0.003574  0.000018                 196.875602\n",
       "definitely coming back      0.003131  0.000018                 172.469535\n",
       "will definitely return      0.003018  0.000018                 166.286665\n",
       "highly recommend this       0.015441  0.000109                 141.772128\n",
       "would definitely come       0.002569  0.000018                 141.555185\n",
       "definitely be returning     0.002499  0.000018                 137.650214\n",
       "definitely go back          0.004938  0.000036                 136.023143"
      ]
     },
     "execution_count": 35,
     "metadata": {},
     "output_type": "execute_result"
    }
   ],
   "source": [
    "# convert the  counts into frequencies\n",
    "tokens['one_star'] = tokens.one_star / model.class_count_[0]\n",
    "tokens['five_star'] = tokens.five_star / model.class_count_[1]\n",
    "tokens.sample(5, random_state=3)\n",
    "\n",
    "# calculate the ratio of fivestar to one star for each token\n",
    "tokens['fivestar_to_onestar_ratio'] = tokens.five_star / tokens.one_star\n",
    "\n",
    "tokens.sort_values('fivestar_to_onestar_ratio', ascending=False).head(10)"
   ]
  },
  {
   "cell_type": "markdown",
   "metadata": {},
   "source": [
    "The most useful token for predicting one star review is to seem related with the service quality and staff person. This indicates that most people who give a poor rating are driven by poor customer service of the staff."
   ]
  },
  {
   "cell_type": "code",
   "execution_count": 36,
   "metadata": {},
   "outputs": [
    {
     "data": {
      "text/html": [
       "<div>\n",
       "<style scoped>\n",
       "    .dataframe tbody tr th:only-of-type {\n",
       "        vertical-align: middle;\n",
       "    }\n",
       "\n",
       "    .dataframe tbody tr th {\n",
       "        vertical-align: top;\n",
       "    }\n",
       "\n",
       "    .dataframe thead th {\n",
       "        text-align: right;\n",
       "    }\n",
       "</style>\n",
       "<table border=\"1\" class=\"dataframe\">\n",
       "  <thead>\n",
       "    <tr style=\"text-align: right;\">\n",
       "      <th></th>\n",
       "      <th>five_star</th>\n",
       "      <th>one_star</th>\n",
       "      <th>fivestar_to_onestar_ratio</th>\n",
       "      <th>onestar_to_fivestar_ratio</th>\n",
       "    </tr>\n",
       "    <tr>\n",
       "      <th>token</th>\n",
       "      <th></th>\n",
       "      <th></th>\n",
       "      <th></th>\n",
       "      <th></th>\n",
       "    </tr>\n",
       "  </thead>\n",
       "  <tbody>\n",
       "    <tr>\n",
       "      <th>give zero</th>\n",
       "      <td>0.000006</td>\n",
       "      <td>0.005409</td>\n",
       "      <td>0.001092</td>\n",
       "      <td>915.755931</td>\n",
       "    </tr>\n",
       "    <tr>\n",
       "      <th>never coming back</th>\n",
       "      <td>0.000006</td>\n",
       "      <td>0.004592</td>\n",
       "      <td>0.001286</td>\n",
       "      <td>777.470639</td>\n",
       "    </tr>\n",
       "    <tr>\n",
       "      <th>zero stars would</th>\n",
       "      <td>0.000006</td>\n",
       "      <td>0.004284</td>\n",
       "      <td>0.001379</td>\n",
       "      <td>725.229529</td>\n",
       "    </tr>\n",
       "    <tr>\n",
       "      <th>one star is</th>\n",
       "      <td>0.000006</td>\n",
       "      <td>0.004266</td>\n",
       "      <td>0.001385</td>\n",
       "      <td>722.156523</td>\n",
       "    </tr>\n",
       "    <tr>\n",
       "      <th>will never return</th>\n",
       "      <td>0.000012</td>\n",
       "      <td>0.008368</td>\n",
       "      <td>0.001412</td>\n",
       "      <td>708.327994</td>\n",
       "    </tr>\n",
       "    <tr>\n",
       "      <th>give zero stars</th>\n",
       "      <td>0.000006</td>\n",
       "      <td>0.004030</td>\n",
       "      <td>0.001466</td>\n",
       "      <td>682.207439</td>\n",
       "    </tr>\n",
       "    <tr>\n",
       "      <th>won be returning</th>\n",
       "      <td>0.000006</td>\n",
       "      <td>0.003939</td>\n",
       "      <td>0.001500</td>\n",
       "      <td>666.842406</td>\n",
       "    </tr>\n",
       "    <tr>\n",
       "      <th>worst service ever</th>\n",
       "      <td>0.000006</td>\n",
       "      <td>0.003739</td>\n",
       "      <td>0.001580</td>\n",
       "      <td>633.039335</td>\n",
       "    </tr>\n",
       "    <tr>\n",
       "      <th>not use this</th>\n",
       "      <td>0.000006</td>\n",
       "      <td>0.003503</td>\n",
       "      <td>0.001686</td>\n",
       "      <td>593.090251</td>\n",
       "    </tr>\n",
       "    <tr>\n",
       "      <th>zero stars</th>\n",
       "      <td>0.000024</td>\n",
       "      <td>0.013469</td>\n",
       "      <td>0.001754</td>\n",
       "      <td>570.042702</td>\n",
       "    </tr>\n",
       "  </tbody>\n",
       "</table>\n",
       "</div>"
      ],
      "text/plain": [
       "                    five_star  one_star  fivestar_to_onestar_ratio  \\\n",
       "token                                                                \n",
       "give zero            0.000006  0.005409                   0.001092   \n",
       "never coming back    0.000006  0.004592                   0.001286   \n",
       "zero stars would     0.000006  0.004284                   0.001379   \n",
       "one star is          0.000006  0.004266                   0.001385   \n",
       "will never return    0.000012  0.008368                   0.001412   \n",
       "give zero stars      0.000006  0.004030                   0.001466   \n",
       "won be returning     0.000006  0.003939                   0.001500   \n",
       "worst service ever   0.000006  0.003739                   0.001580   \n",
       "not use this         0.000006  0.003503                   0.001686   \n",
       "zero stars           0.000024  0.013469                   0.001754   \n",
       "\n",
       "                    onestar_to_fivestar_ratio  \n",
       "token                                          \n",
       "give zero                          915.755931  \n",
       "never coming back                  777.470639  \n",
       "zero stars would                   725.229529  \n",
       "one star is                        722.156523  \n",
       "will never return                  708.327994  \n",
       "give zero stars                    682.207439  \n",
       "won be returning                   666.842406  \n",
       "worst service ever                 633.039335  \n",
       "not use this                       593.090251  \n",
       "zero stars                         570.042702  "
      ]
     },
     "execution_count": 36,
     "metadata": {},
     "output_type": "execute_result"
    }
   ],
   "source": [
    "tokens['onestar_to_fivestar_ratio'] = tokens.one_star / tokens.five_star\n",
    "tokens.sort_values('onestar_to_fivestar_ratio', ascending=False).head(10)"
   ]
  },
  {
   "cell_type": "code",
   "execution_count": null,
   "metadata": {},
   "outputs": [],
   "source": []
  }
 ],
 "metadata": {
  "kernelspec": {
   "display_name": "Python 3",
   "language": "python",
   "name": "python3"
  },
  "language_info": {
   "codemirror_mode": {
    "name": "ipython",
    "version": 3
   },
   "file_extension": ".py",
   "mimetype": "text/x-python",
   "name": "python",
   "nbconvert_exporter": "python",
   "pygments_lexer": "ipython3",
   "version": "3.6.4"
  }
 },
 "nbformat": 4,
 "nbformat_minor": 2
}
